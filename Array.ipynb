{
  "nbformat": 4,
  "nbformat_minor": 0,
  "metadata": {
    "colab": {
      "name": "Array.ipynb",
      "provenance": [],
      "collapsed_sections": [],
      "authorship_tag": "ABX9TyOLzOvNnRGanoYSIn2LcUFH",
      "include_colab_link": true
    },
    "kernelspec": {
      "name": "python3",
      "display_name": "Python 3"
    }
  },
  "cells": [
    {
      "cell_type": "markdown",
      "metadata": {
        "id": "view-in-github",
        "colab_type": "text"
      },
      "source": [
        "<a href=\"https://colab.research.google.com/github/vik-sin/Basic-Python-Application-using-MySQL/blob/master/Array.ipynb\" target=\"_parent\"><img src=\"https://colab.research.google.com/assets/colab-badge.svg\" alt=\"Open In Colab\"/></a>"
      ]
    },
    {
      "cell_type": "markdown",
      "metadata": {
        "id": "TZMD0_CNkmWH"
      },
      "source": [
        "#**Day-1**"
      ]
    },
    {
      "cell_type": "code",
      "metadata": {
        "colab": {
          "base_uri": "https://localhost:8080/"
        },
        "id": "xt4qt9nokrhh",
        "outputId": "c8e76e3e-784a-4f73-9bad-3fed4458b787"
      },
      "source": [
        "# Question-1: Searching an element in an array\n",
        "\n",
        "arr = []\n",
        "size = int(input(\"Enter the size of an array.\\n\"))\n",
        "print(\"Enter the elements of an array.\")\n",
        "for i in range(size):\n",
        "  arr.append(int(input()))\n",
        "\n",
        "val = int(input(\"Enter the value to be searched. \"))\n",
        "\n",
        "for i in range(size):\n",
        "  if arr[i] == val:\n",
        "    print(\"Searched value is present at\", i+1, \"position.\")\n",
        "    break\n",
        "else:\n",
        "  print(\"Element not found.\")"
      ],
      "execution_count": 13,
      "outputs": [
        {
          "output_type": "stream",
          "text": [
            "Enter the size of an array.\n",
            "4\n",
            "Enter the elements of an array.\n",
            "54\n",
            "12\n",
            "6\n",
            "88\n",
            "Enter the value to be searched. 6\n",
            "Searched value is present at 3 position.\n"
          ],
          "name": "stdout"
        }
      ]
    },
    {
      "cell_type": "code",
      "metadata": {
        "colab": {
          "base_uri": "https://localhost:8080/"
        },
        "id": "G8jdadw3k0GE",
        "outputId": "ebce3fcb-a50e-4303-9537-412c7bd96892"
      },
      "source": [
        "# Question-2:  Array reversal\n",
        "\n",
        "\n",
        "arr = []\n",
        "size = int(input(\"Enter the size of an array.\\n\"))\n",
        "print(\"Enter the elements of an array.\")\n",
        "for i in range(size):\n",
        "  arr.append(int(input()))\n",
        "\n",
        "start = 0\n",
        "end = size - 1\n",
        "\n",
        "while (start < end):\n",
        "  arr[start], arr[end] = arr[end], arr[start] #swapping_values\n",
        "  start += 1\n",
        "  end -= 1\n",
        "\n",
        "for item in arr:\n",
        "  print(item, end = \" \")"
      ],
      "execution_count": 15,
      "outputs": [
        {
          "output_type": "stream",
          "text": [
            "Enter the size of an array.\n",
            "5\n",
            "Enter the elements of an array.\n",
            "10\n",
            "20\n",
            "30\n",
            "40\n",
            "50\n",
            "50 40 30 20 10 "
          ],
          "name": "stdout"
        }
      ]
    },
    {
      "cell_type": "code",
      "metadata": {
        "colab": {
          "base_uri": "https://localhost:8080/"
        },
        "id": "bbvhXywVk0KC",
        "outputId": "ca39ee52-cc6f-4d5f-bfbd-29c3bc409099"
      },
      "source": [
        "# Question-3: Array Rotation (shifting an element to the left)\n",
        "\n",
        "def rotate_left(arr, size):\n",
        "  first_ele = arr[0]\n",
        "\n",
        "  for i in range(1, size):\n",
        "    arr[i-1] = arr[i]\n",
        "\n",
        "  arr[size-1] = first_ele\n",
        "\n",
        "  for item in arr:\n",
        "    print(item, end = \" \")\n",
        "\n",
        "\n",
        "\n",
        "arr = []\n",
        "size = int(input(\"Enter the size of an array.\\n\"))\n",
        "print(\"Enter the elements of an array.\")\n",
        "for i in range(size):\n",
        "  arr.append(int(input()))\n",
        "rotate_left(arr, size)"
      ],
      "execution_count": 17,
      "outputs": [
        {
          "output_type": "stream",
          "text": [
            "Enter the size of an array.\n",
            "4\n",
            "Enter the elements of an array.\n",
            "53\n",
            "81\n",
            "22\n",
            "99\n",
            "81 22 99 53 "
          ],
          "name": "stdout"
        }
      ]
    },
    {
      "cell_type": "code",
      "metadata": {
        "colab": {
          "base_uri": "https://localhost:8080/"
        },
        "id": "lJq-Xcvmk0M6",
        "outputId": "e437b9b4-874c-49dd-94a0-697fac4800af"
      },
      "source": [
        "# Question-4: Pusing zeroes to the end of an array while keeping the order of non-zero elements unchanged.\n",
        "arr = [0, 1, 2, 7, 0, 8, 9, 0, 1, 2 ]   # given_in_question\n",
        "size = len(arr)\n",
        "index = 0\n",
        "\n",
        "for i in range(size):\n",
        "  if arr[i] !=0:\n",
        "    arr[index] = arr[i]\n",
        "    index += 1\n",
        "\n",
        "# putting the zeroes(equal to size - index) at the end\n",
        "while (index < size):\n",
        "  arr[index] = 0\n",
        "  index += 1\n",
        "\n",
        "print(*arr)"
      ],
      "execution_count": 21,
      "outputs": [
        {
          "output_type": "stream",
          "text": [
            "1 2 7 8 9 1 2 0 0 0\n"
          ],
          "name": "stdout"
        }
      ]
    },
    {
      "cell_type": "code",
      "metadata": {
        "colab": {
          "base_uri": "https://localhost:8080/"
        },
        "id": "iNdkGgCUk0Vq",
        "outputId": "df8c846e-e682-4929-e2a1-e8dbb719b52b"
      },
      "source": [
        "# Question-5: Positive nos. at even posn and negative nos. at odd posn\n",
        "arr = [-1, -2, 3, 4, -5, 0, 8, -1] #array_given_in_quesn\n",
        "size = len(arr)\n",
        "positive = 1\n",
        "negative = 0\n",
        "\n",
        "while (True):\n",
        "\n",
        "  while (negative < size and arr[negative] < 0):\n",
        "    negative += 2\n",
        "  \n",
        "  while (positive < size and arr[positive] >=0):\n",
        "    positive += 2\n",
        "\n",
        "  if (positive < size and negative < size):\n",
        "    arr[positive], arr[negative] = arr[negative], arr[positive]\n",
        "  \n",
        "  else:\n",
        "    break\n",
        "\n",
        "print(*arr)\n"
      ],
      "execution_count": 23,
      "outputs": [
        {
          "output_type": "stream",
          "text": [
            "-1 3 -2 4 -5 0 -1 8\n"
          ],
          "name": "stdout"
        }
      ]
    },
    {
      "cell_type": "code",
      "metadata": {
        "id": "fH9rcZRY7mLd"
      },
      "source": [
        ""
      ],
      "execution_count": null,
      "outputs": []
    }
  ]
}